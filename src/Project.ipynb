{
 "cells": [
  {
   "cell_type": "markdown",
   "metadata": {},
   "source": [
    "# Project"
   ]
  },
  {
   "cell_type": "code",
   "execution_count": 1,
   "metadata": {},
   "outputs": [],
   "source": [
    "### Import of files needed for the project\n",
    "\n",
    "import parse  # file containing the function to parse the data files and create a Data object\n",
    "import problem as pb # file containing the data structures to store the data of the problem and a solution to a problem (class Data, BalanceTriple, Solution)\n",
    "import checker # file containing the functions to check if a given Solution object is feasible according to a Data object and if its cost is correclty computed\n",
    "import mip\n",
    "\n",
    "from mip import *\n",
    "import time"
   ]
  },
  {
   "cell_type": "markdown",
   "metadata": {},
   "source": [
    "### Data\n",
    "\n",
    "On rappelle les structures qui sont remplies par les méthodes de lecture de données.\n",
    "\n",
    "**Data structure for data used to compute the balance cost**\n",
    "```\n",
    "class BalanceTriple(NamedTuple):\n",
    "    resource1: int  # first resource\n",
    "    resource2: int  # second resource\n",
    "    target: int  # target aimed for the resource consumption\n",
    "    weight: int  # weight of the balance triple\n",
    "```\n",
    "\n",
    "**data struture for an instance of Google challenge problem**\n",
    "```\n",
    "class Data(NamedTuple):\n",
    "    nbResources: int  # number of resources |R|\n",
    "    transientStatus: NDArray[Shape[\"*\"], Int]  # transientStatus[r] is 1 if resource r is transient, 0 otherwise\n",
    "    weightLoadCost: NDArray[Shape[\"*\"], Int]  # weightLoadCost[r] indicating the weight of load cost for each resource\n",
    "\n",
    "    nbMachines: int  # number of machines |M|\n",
    "    neighborhoods: NDArray[Shape[\"*\"], Int]  # neighborhoods[m] is equal to the neighborhood to which machine m belongs\n",
    "    nbNeighborhoods: int  # total number of neighborhoods\n",
    "    locations: NDArray[Shape[\"*\"], Int]  # locations[m] is equal to the location of machine m\n",
    "    nbLocations: int  # total number of locations\n",
    "    softResCapacities: NDArray[\n",
    "        Shape[\"*,*\"], Int]  # softResCapacities[m,r] is equal to SC(m,r)\n",
    "    hardResCapacities: NDArray[\n",
    "        Shape[\"*,*\"], Int]  # hardResCapacities[m,r] is equal to Cds(m,r)\n",
    "    machineMoveCosts: NDArray[Shape[\"*,*\"], Int]  # machineMoveCosts[m1,m2] is equal to MMC(m1,m2)\n",
    "\n",
    "    nbServices: int  # number of services |S|\n",
    "    spreadMin: NDArray[Shape[\"*\"], Int]  # spreadMin[s] is equal to spreadMin(s) (i.e., the minimum number of distinct locations where at least one process of service s should run)\n",
    "    dependencies: NDArray[Shape[\"*\"], Any]  # dependencies[s] is the list of services on which service s depends\n",
    "\n",
    "    nbProcess: int  # number of processes |P|\n",
    "    servicesProcess: NDArray[Shape[\"*\"], Int]  # servicesProcess[p] is the service to which process p belongs\n",
    "    processReq: NDArray[Shape[\"*,*\"], Int]  # processResReq[p,r] is equal to R(p,r)\n",
    "    processMoveCost: NDArray[Shape[\"*\"], Int]  # processMoveCost[p] is equal to PMC(p)\n",
    "\n",
    "    nbBalanceTriples: int  # number of balance triples |B|\n",
    "    balanceTriples: NDArray[Shape[\"*\"], Any]  # balanceTriples[b] is the triple b (object of type BalanceTriple)\n",
    "    processMoveWeight: int  # weight for the process move cost\n",
    "    serviceMoveWeight: int  # weight for the service move cost\n",
    "    machineMoveWeight: int  # weight for the machine move cost\n",
    "\n",
    "    initialAssignment: NDArray[Shape[\"*\"], Int]  # initialAssignment[p] is equal to M0(p)\n",
    "```\n",
    "\n",
    "**data structure for storing the solution**\n",
    "```\n",
    "class Solution(NamedTuple):\n",
    "    assignment: NDArray[Shape[\"*\"], Int]  # assignment[p] is the machine to which the process p is assigned.\n",
    "    cost: int  # value of the objective function\n",
    "```\n",
    "\n"
   ]
  },
  {
   "cell_type": "markdown",
   "metadata": {},
   "source": [
    "### Work to do\n",
    "\n",
    "You should implement a solution method for the machine assignment problem. It can be an algorithmic solution or can make use of mathematical programming solvers. \n",
    "One should access your solution method through the following method you should implement:\n",
    "\n",
    "```\n",
    "# Build a solution to the machine assingment problem for the given Data object\n",
    "# data : object containing the problem data\n",
    "# maxTime : maximum time limit (in seconds) -> you should try to take it into account into your method\n",
    "# verbose : if it is set to False, there should not be anything print into the console\n",
    "\n",
    "def solve(data: problem.Data, maxTime: int, verbose: bool) -> problem.Solution:\n",
    "\n",
    "```\n",
    "\n",
    "You are free to implement your code in the next cell or to do your implementation in the Python file `solver.py` (that can be dependent of other Python files if needed)"
   ]
  },
  {
   "cell_type": "code",
   "execution_count": null,
   "metadata": {},
   "outputs": [],
   "source": [
    "def solve(data: pb.Data, maxTime: int, verbose: bool) -> pb.Solution:\n",
    "    # Fill the method\n",
    "    pass\n",
    "    \n",
    "    \n",
    "    "
   ]
  },
  {
   "cell_type": "markdown",
   "metadata": {},
   "source": [
    "### Test\n",
    "The two cells below allow you to execute your code. It reads the data, calls the method solve you have implemented, retrieves the solution, and checks that the constraints are respected and the cost correctly computed. \n",
    "\n",
    "If you have implemented your solution method in the Python file `solver.py`, you can remove the cell above and import below the Python file in the cell below using the method `import solver`. Then you need to replace the line ̀`solution = solve(data, maxTime, verbose)` by  `solution = solver.solve(data, maxTime, verbose)`\n",
    "\n",
    "\n",
    "You can change the name to test on another dataset. "
   ]
  },
  {
   "cell_type": "code",
   "execution_count": null,
   "metadata": {},
   "outputs": [],
   "source": [
    "def mainFunction(instanceFilename: str, assignmentFilename: str, verbose: bool, maxTime: int):\n",
    "    print(\"Received instance files \", instanceFilename, \" and \", assignmentFilename)\n",
    "\n",
    "    # reading the data\n",
    "    data = parse.parseFiles(instanceFilename, assignmentFilename)\n",
    "\n",
    "    if verbose:\n",
    "        pb.printData(data)\n",
    "\n",
    "    solutionTemp = pb.Solution(data.initialAssignment, 0)\n",
    "    checker.check(data, solutionTemp, verbose)  # check if the solution is feasible\n",
    "\n",
    "    # solve the problem\n",
    "    solution = solve(data, maxTime, verbose)\n",
    "\n",
    "    if verbose:  # print the solution\n",
    "        print(\"Solution of cost \", solution.cost)\n",
    "        for i in range(data.nbProcess):\n",
    "            print(solution.assignment[i], end=\" \")  # here the solution is written with our convention 1..n\n",
    "        print()\n",
    "\n",
    "    # test if the solution is feasible and compute its cost\n",
    "    checker.check(data, solution, True)  # check if the solution is feasible"
   ]
  },
  {
   "cell_type": "code",
   "execution_count": null,
   "metadata": {},
   "outputs": [],
   "source": [
    "# enter your instance name here\n",
    "instanceFilename = \"./data/model_toy.txt\"\n",
    "assignmentFilename = \"./data/assignment_toy.txt\"\n",
    "\n",
    "# set to true if you want to print intermediate logs\n",
    "verbose = False\n",
    "\n",
    "# default time allowed\n",
    "maxTime = 300\n",
    "\n",
    "# reads the data, calls the method solve you have implemented, retrieves the solution, and checks that the constraints are respected and the cost correctly computed\n",
    "mainFunction(instanceFilename, assignmentFilename, verbose, maxTime)"
   ]
  }
 ],
 "metadata": {
  "kernelspec": {
   "display_name": "Python 3.9.0 ('.venv': poetry)",
   "language": "python",
   "name": "python3"
  },
  "language_info": {
   "codemirror_mode": {
    "name": "ipython",
    "version": 3
   },
   "file_extension": ".py",
   "mimetype": "text/x-python",
   "name": "python",
   "nbconvert_exporter": "python",
   "pygments_lexer": "ipython3",
   "version": "3.9.0"
  },
  "vscode": {
   "interpreter": {
    "hash": "08594e447b8f77d2dbb3613c0ebaab769d1f962b3afde2403efa6280248428f7"
   }
  }
 },
 "nbformat": 4,
 "nbformat_minor": 5
}
